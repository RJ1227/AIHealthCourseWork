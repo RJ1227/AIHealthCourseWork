{
 "cells": [
  {
   "cell_type": "markdown",
   "id": "bcb58ef6",
   "metadata": {},
   "source": [
    "# Heart Murmur Analysis\n",
    "An exploration of patient data related to heart murmurs."
   ]
  },
  {
   "cell_type": "markdown",
   "id": "ccf3b3be",
   "metadata": {},
   "source": [
    "## Introduction\n",
    "This notebook provides a detailed analysis of a dataset containing medical evaluations of pediatric patients, particularly focusing on heart murmurs and related characteristics."
   ]
  },
  {
   "cell_type": "code",
   "execution_count": null,
   "id": "09009199",
   "metadata": {},
   "outputs": [],
   "source": [
    "import pandas as pd\n",
    "data = pd.read_csv('/path/to/training_data.csv')\n",
    "data.head()"
   ]
  },
  {
   "cell_type": "markdown",
   "id": "1e352b87",
   "metadata": {},
   "source": [
    "## Data Exploration\n",
    "Displaying the initial few rows and basic statistics of the dataset."
   ]
  },
  {
   "cell_type": "code",
   "execution_count": null,
   "id": "a5e35460",
   "metadata": {},
   "outputs": [],
   "source": [
    "data.describe(include='all')"
   ]
  },
  {
   "cell_type": "markdown",
   "id": "8b4411dc",
   "metadata": {},
   "source": [
    "## Distribution Analysis\n",
    "Exploring the distribution of key features such as age, sex, murmur presence, and outcomes."
   ]
  },
  {
   "cell_type": "code",
   "execution_count": null,
   "id": "76d17e43",
   "metadata": {},
   "outputs": [],
   "source": [
    "import matplotlib.pyplot as plt\n",
    "import seaborn as sns\n",
    "# Plotting distributions of age, sex, murmur presence, and outcomes\n",
    "fig, axes = plt.subplots(nrows=2, ncols=2, figsize=(12, 10))\n",
    "sns.countplot(data=data, x='Age', ax=axes[0, 0])\n",
    "sns.countplot(data=data, x='Sex', ax=axes[0, 1])\n",
    "sns.countplot(data=data, x='Murmur', ax=axes[1, 0])\n",
    "sns.countplot(data=data, x='Outcome', ax=axes[1, 1])\n",
    "plt.tight_layout()"
   ]
  },
  {
   "cell_type": "markdown",
   "id": "e6482ec2",
   "metadata": {},
   "source": [
    "## Correlation Analysis\n",
    "Investigating the relationships between numerical attributes and health outcomes."
   ]
  },
  {
   "cell_type": "code",
   "execution_count": null,
   "id": "cb51025a",
   "metadata": {},
   "outputs": [],
   "source": [
    "correlation_data = data[['Height', 'Weight', 'Sex', 'Outcome']].copy()\n",
    "correlation_data['Sex'] = correlation_data['Sex'].astype('category').cat.codes\n",
    "correlation_data['Outcome'] = correlation_data['Outcome'].astype('category').cat.codes\n",
    "correlation_data.corr()"
   ]
  },
  {
   "cell_type": "markdown",
   "id": "67265fe2",
   "metadata": {},
   "source": [
    "## Murmur Location Analysis\n",
    "Analyzing how different murmur locations correlate with health outcomes."
   ]
  },
  {
   "cell_type": "code",
   "execution_count": null,
   "id": "37063d1f",
   "metadata": {},
   "outputs": [],
   "source": [
    "murmur_location_outcome = data.groupby(['Murmur locations', 'Outcome']).size().unstack(fill_value=0)\n",
    "murmur_location_outcome"
   ]
  },
  {
   "cell_type": "markdown",
   "id": "b0c4188c",
   "metadata": {},
   "source": [
    "## Murmur Characteristics Analysis\n",
    "Further exploration of murmur characteristics such as pitch and quality."
   ]
  },
  {
   "cell_type": "code",
   "execution_count": null,
   "id": "891a2b11",
   "metadata": {},
   "outputs": [],
   "source": [
    "sns.countplot(data=data, x='Systolic murmur pitch', hue='Outcome')\n",
    "sns.countplot(data=data, x='Systolic murmur quality', hue='Outcome')"
   ]
  },
  {
   "cell_type": "markdown",
   "id": "7734f62c",
   "metadata": {},
   "source": [
    "## Predictive Modeling\n",
    "Building a model to predict health outcomes based on the dataset."
   ]
  },
  {
   "cell_type": "code",
   "execution_count": null,
   "id": "99e749e5",
   "metadata": {},
   "outputs": [],
   "source": [
    "from sklearn.model_selection import train_test_split\n",
    "from sklearn.ensemble import RandomForestClassifier\n",
    "from sklearn.metrics import accuracy_score, classification_report\n",
    "from sklearn.preprocessing import LabelEncoder\n",
    "# Encoding categorical variables and preparing data\n",
    "label_encoder = LabelEncoder()\n",
    "encoded_features = label_encoder.fit_transform(data[['Age', 'Sex', 'Murmur', 'Most audible location']])\n",
    "# Model training and evaluation\n",
    "X_train, X_test, y_train, y_test = train_test_split(encoded_features, data['Outcome'], test_size=0.3)\n",
    "model = RandomForestClassifier().fit(X_train, y_train)\n",
    "y_pred = model.predict(X_test)\n",
    "accuracy_score(y_test, y_pred)"
   ]
  },
  {
   "cell_type": "markdown",
   "id": "298625fd",
   "metadata": {},
   "source": [
    "## Conclusion\n",
    "Summary of the findings and potential next steps for further analysis or model improvement."
   ]
  }
 ],
 "metadata": {},
 "nbformat": 4,
 "nbformat_minor": 5
}
